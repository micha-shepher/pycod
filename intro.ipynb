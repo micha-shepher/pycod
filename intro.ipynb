{
 "cells": [
  {
   "cell_type": "markdown",
   "metadata": {},
   "source": [
    "# progress report 21/04\n",
    "## installing:\n",
    "<ul>\n",
    "<li>\n",
    "python 2.7.9 (64 bit) ---> path C:\\Python27,\n",
    "</li>\n",
    "\n",
    "<li>ipython,</li>\n",
    "<li>git bash,</li>\n",
    "<li>java jdk <i>(necessary for CherryPy and eclipse)</i>\n",
    "-- note: probably best to stick to <strong>CherryPy</strong></li>\n",
    "<li>django 1.8\n",
    "<li>install pyodbc\n",
    "<li>install django-pyodbc\n",
    "<li>test django\n",
    "<li>django-pyodbc \n",
    "</ul>\n"
   ]
  },
  {
   "cell_type": "markdown",
   "metadata": {},
   "source": [
    "## testing\n",
    "<ul><li>inspect mssql database</li>\n",
    "<li>generate models from database, see STVmodels.py</li>\n",
    "<li>test ipython (see this report)</li>\n",
    "</ul>"
   ]
  },
  {
   "cell_type": "code",
   "execution_count": 1,
   "metadata": {
    "collapsed": true
   },
   "outputs": [],
   "source": [
    "# Database\n",
    "# https://docs.djangoproject.com/en/1.8/ref/settings/#databases\n",
    "DATABASES = {\n",
    "    'default': {\n",
    "        'NAME': 'STVData_copy',\n",
    "        'ENGINE': 'sql_server.pyodbc',\n",
    "        'HOST': '10.99.16.56',\n",
    "        'USER': 'sa',\n",
    "        'PASSWORD': 'WorkFlow',\n",
    "        'OPTIONS': {\n",
    "            'host_is_server': True\n",
    "        }\n",
    "    }\n",
    "}\n"
   ]
  },
  {
   "cell_type": "markdown",
   "metadata": {},
   "source": [
    "### generate models:\n"
   ]
  },
  {
   "cell_type": "markdown",
   "metadata": {},
   "source": [
    "### manage.py inspectdb > STVmodels.py\n",
    "<p>Note: The models are changed from the database, probably needs adjusting.</p>\n"
   ]
  },
  {
   "cell_type": "code",
   "execution_count": 2,
   "metadata": {
    "collapsed": true
   },
   "outputs": [],
   "source": [
    "import django\n",
    "import pyodbc"
   ]
  },
  {
   "cell_type": "code",
   "execution_count": 5,
   "metadata": {
    "collapsed": false
   },
   "outputs": [
    {
     "data": {
      "text/plain": [
       "['VERSION',\n",
       " '__builtins__',\n",
       " '__doc__',\n",
       " '__file__',\n",
       " '__name__',\n",
       " '__package__',\n",
       " '__path__',\n",
       " '__version__',\n",
       " 'get_version',\n",
       " 'setup']"
      ]
     },
     "execution_count": 5,
     "metadata": {},
     "output_type": "execute_result"
    }
   ],
   "source": [
    "dir(django)[:10]"
   ]
  },
  {
   "cell_type": "code",
   "execution_count": 7,
   "metadata": {
    "collapsed": false
   },
   "outputs": [
    {
     "data": {
      "text/plain": [
       "['BINARY',\n",
       " 'Binary',\n",
       " 'BinaryNull',\n",
       " 'Connection',\n",
       " 'Cursor',\n",
       " 'DATETIME',\n",
       " 'DataError',\n",
       " 'DatabaseError',\n",
       " 'Date',\n",
       " 'DateFromTicks']"
      ]
     },
     "execution_count": 7,
     "metadata": {},
     "output_type": "execute_result"
    }
   ],
   "source": [
    "dir(pyodbc)[:10]"
   ]
  },
  {
   "cell_type": "markdown",
   "metadata": {},
   "source": [
    "ls"
   ]
  },
  {
   "cell_type": "markdown",
   "metadata": {},
   "source": [
    "### To add a model:\n",
    "<ul>\n",
    "<li>copy the model from STVmodels.py to cod/models.py</li>\n",
    "<li>add to admin.py:</li>\n",
    "<ul>\n",
    "<li>from cod.models import <b>--modelname--</b></li>\n",
    "<li>admin.site.register <b>--modelname--</b></li>\n",
    "</ul>\n",
    "<li>rerun the server</li>\n",
    "</ul>\n",
    "\n"
   ]
  },
  {
   "cell_type": "markdown",
   "metadata": {},
   "source": [
    "<strong>x:\\djangoprog> \\</strong> manage.py runserver\n",
    "<p>\n",
    "now go to the browser and type:\n",
    "</p>\n",
    "http://localhost:8000/admin\n",
    "<p>You may need to login.</p>\n",
    "<p>username: <i>tycho</i></p>\n",
    "<p>password: <i>hagelslag</i></p>"
   ]
  },
  {
   "cell_type": "markdown",
   "metadata": {},
   "source": [
    "### generating xml file from database\n",
    "<b> x:\\djangoproj></b> manage.py dumpdata --format=xml --indent=1 > data.xml\n"
   ]
  },
  {
   "cell_type": "code",
   "execution_count": null,
   "metadata": {
    "collapsed": true
   },
   "outputs": [],
   "source": []
  }
 ],
 "metadata": {
  "kernelspec": {
   "display_name": "Python 2",
   "language": "python",
   "name": "python2"
  },
  "language_info": {
   "codemirror_mode": {
    "name": "ipython",
    "version": 2
   },
   "file_extension": ".py",
   "mimetype": "text/x-python",
   "name": "python",
   "nbconvert_exporter": "python",
   "pygments_lexer": "ipython2",
   "version": "2.7.9"
  }
 },
 "nbformat": 4,
 "nbformat_minor": 0
}
